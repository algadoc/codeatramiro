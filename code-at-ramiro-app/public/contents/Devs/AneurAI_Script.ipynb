{
 "cells": [
  {
   "cell_type": "code",
   "execution_count": 6,
   "metadata": {},
   "outputs": [
    {
     "data": {
      "text/plain": [
       "(array([[0.50165753, 0.49834247]]),\n",
       " array([0], dtype=int64),\n",
       " (array([[ 0.43956502, -0.31320894]]), array([4])),\n",
       " array([[ 0.62709859,  0.11411382, -0.1784573 ]]),\n",
       " array([4]))"
      ]
     },
     "execution_count": 6,
     "metadata": {},
     "output_type": "execute_result"
    }
   ],
   "source": [
    "import numpy as np\n",
    "import pandas as pd \n",
    "from pandas import DataFrame\n",
    "from sklearn.ensemble import AdaBoostClassifier\n",
    "from sklearn.cluster import KMeans\n",
    "from sklearn.decomposition import PCA, KernelPCA\n",
    "from sklearn.preprocessing import OneHotEncoder, OrdinalEncoder\n",
    "import joblib\n",
    "\n",
    "one_hot_localizacion = joblib.load('one_hot_localizacion.joblib')\n",
    "encoder_sexo = joblib.load('encoder_sexo.joblib')\n",
    "encoder_multiple = joblib.load('encoder_multiple.joblib')\n",
    "encoder_uci = joblib.load('encoder_uci.joblib')\n",
    "historicos_pca = joblib.load('historicos_pca.joblib')\n",
    "historicos_kmean = joblib.load('historicos_kmean.joblib')\n",
    "ada_clf = joblib.load('ada_clf.joblib')\n",
    "graph_kpca = joblib.load('graph_kpca.joblib')\n",
    "graph_kmean = joblib.load('graph_kmean.joblib')\n",
    "features_graph1 = [\"edad\",\"sexo\",\"gcs\",\"tamano\",\"fihser_num\"]\n",
    "\n",
    "\n",
    "features = [\"edad\", \"sexo\", \"multiple\", \"gcs\", \"wfns_pretratamiento_num\", \"wfns_ingreso_num\",\n",
    "            \"fihser_num\", \"tamano\", \"uci\", \"Oct_12\", \"momento_num\", \"localizacion\"]\n",
    "\n",
    "train_labels = [\"edad\", \"sexo\", \"gcs\", \"wfns_pretratamiento_num\", \"wfns_ingreso_num\", \"fihser_num\", \"tamano\", \"uci\", \"Oct_12\", \"momento_num\",\n",
    "                'A.Ch.A: Arteria coroidea anterior',\n",
    "                'A.Co.P: Arteria comunicante posterior',\n",
    "                'ACA: Arteria cerebral anterior', 'ACI: Arteria carotida interna',\n",
    "                'ACM: Arteria cerebral media', 'ACP: Arteria cerebral posterior',\n",
    "                'ACoA: Arteria comunicante anterior', 'BAS: Apex de la basilar',\n",
    "                'BIF: Bifurcacion carotidea', 'OFT: Arteria oftalmica',\n",
    "                'PERI: Pericallosa', 'PICA', 'VBA: Vertebrobasilar: AICA, SCA',\"historicos_mat\"]\n",
    "\n",
    "historicos_features = ['HTA', 'tabaq', 'obesidad',\n",
    "                       'diabetes', 'alcohol', 'drogas', 'familiares']\n",
    "\n",
    "def runPatient(paciente, historico):\n",
    "    paciente = pd.DataFrame([paciente], columns=features)\n",
    "    paciente.sexo = encoder_sexo.transform(\n",
    "        paciente[[\"sexo\"]])\n",
    "    paciente.multiple = encoder_multiple.transform(\n",
    "        paciente[[\"multiple\"]])\n",
    "    paciente.uci = encoder_uci.transform(\n",
    "        paciente[[\"uci\"]])\n",
    "    loc_hot = one_hot_localizacion.transform(\n",
    "        paciente[\"localizacion\"].values.reshape(-1, 1))\n",
    "    loc_hot_df = pd.DataFrame(\n",
    "        loc_hot, columns=one_hot_localizacion.categories_[0])\n",
    "    paciente = paciente.join(\n",
    "        loc_hot_df, how=\"left\")\n",
    "    paciente.drop([\"localizacion\"], axis=1)\n",
    "    historicos = pd.DataFrame([historico], columns=historicos_features)\n",
    "    trans_historicos = historicos_pca.transform(\n",
    "        historicos[historicos_features])\n",
    "    kmean_scale = historicos_kmean.predict(trans_historicos)\n",
    "    paciente[\"historicos_mat\"] = kmean_scale\n",
    "    prediccion_prob = ada_clf.predict_proba(\n",
    "        paciente[train_labels])\n",
    "    prediccion = ada_clf.predict(paciente[train_labels])\n",
    "    features_kpca = graph_kpca.transform(paciente[features_graph1])\n",
    "    label_kmean = graph_kmean.predict(features_kpca)\n",
    "    return (prediccion_prob,prediccion,(trans_historicos,kmean_scale),features_kpca,label_kmean)\n",
    "\n",
    "# paciente1 = [65, \"Hombre\", \"Si\", 12, 5, 4, 2, 7, \"Si\", 0, 2, \"A.Co.P: Arteria comunicante posterior\"]\n",
    "# historicos1 = [1, 0, 0, 0, 0, 0, 0]\n",
    "# runPatient(paciente1, historicos1)"
   ]
  },
  {
   "cell_type": "code",
   "execution_count": null,
   "metadata": {},
   "outputs": [],
   "source": []
  }
 ],
 "metadata": {
  "kernelspec": {
   "display_name": "Python 3",
   "language": "python",
   "name": "python3"
  },
  "language_info": {
   "codemirror_mode": {
    "name": "ipython",
    "version": 3
   },
   "file_extension": ".py",
   "mimetype": "text/x-python",
   "name": "python",
   "nbconvert_exporter": "python",
   "pygments_lexer": "ipython3",
   "version": "3.7.4"
  }
 },
 "nbformat": 4,
 "nbformat_minor": 2
}
